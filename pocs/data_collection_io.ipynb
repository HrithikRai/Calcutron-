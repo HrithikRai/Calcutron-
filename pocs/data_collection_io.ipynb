{
 "cells": [
  {
   "cell_type": "code",
   "execution_count": 1,
   "metadata": {},
   "outputs": [
    {
     "name": "stderr",
     "output_type": "stream",
     "text": [
      "Neither CUDA nor MPS are available - defaulting to CPU. Note: This module is much faster with a GPU.\n"
     ]
    }
   ],
   "source": [
    "import easyocr\n",
    "\n",
    "# Create an EasyOCR Reader instance\n",
    "reader = easyocr.Reader(['en'])  # Specify the language(s)\n",
    "\n",
    "# Perform OCR\n",
    "def perform_ocr_easyocr(image_path):\n",
    "    try:\n",
    "        result = reader.readtext(image_path)\n",
    "        extracted_text = \" \".join([text[1] for text in result])  # Extract recognized text\n",
    "        return extracted_text\n",
    "    except Exception as e:\n",
    "        print(f\"Error during OCR: {e}\")\n",
    "        return None\n",
    "\n",
    "# Example usage\n",
    "image_path = \"resources/test.png\"  # Path to your image"
   ]
  },
  {
   "cell_type": "code",
   "execution_count": 4,
   "metadata": {},
   "outputs": [
    {
     "name": "stdout",
     "output_type": "stream",
     "text": [
      "Extracted Text: Q01. (25 Points) Locate the relative extrema for this function y =f(x) = 12 Answer: X-x?\n"
     ]
    }
   ],
   "source": [
    "text = perform_ocr_easyocr(image_path)\n",
    "print(\"Extracted Text:\", text)"
   ]
  },
  {
   "cell_type": "code",
   "execution_count": null,
   "metadata": {},
   "outputs": [],
   "source": []
  },
  {
   "cell_type": "code",
   "execution_count": null,
   "metadata": {},
   "outputs": [],
   "source": []
  }
 ],
 "metadata": {
  "kernelspec": {
   "display_name": "langchain_env",
   "language": "python",
   "name": "langchain_env"
  },
  "language_info": {
   "codemirror_mode": {
    "name": "ipython",
    "version": 3
   },
   "file_extension": ".py",
   "mimetype": "text/x-python",
   "name": "python",
   "nbconvert_exporter": "python",
   "pygments_lexer": "ipython3",
   "version": "3.10.10"
  }
 },
 "nbformat": 4,
 "nbformat_minor": 2
}
